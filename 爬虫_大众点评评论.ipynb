{
 "cells": [
  {
   "cell_type": "markdown",
   "metadata": {},
   "source": [
    "## 爬取大众点评中店铺：http://www.dianping.com/shop/l1MNeHgCskgs6qiN       的第一页"
   ]
  },
  {
   "cell_type": "code",
   "execution_count": 2,
   "metadata": {},
   "outputs": [
    {
     "ename": "KeyError",
     "evalue": "'fdutk'",
     "output_type": "error",
     "traceback": [
      "\u001b[1;31m---------------------------------------------------------------------------\u001b[0m",
      "\u001b[1;31mKeyError\u001b[0m                                  Traceback (most recent call last)",
      "\u001b[1;32m<ipython-input-2-56280639a1dd>\u001b[0m in \u001b[0;36m<module>\u001b[1;34m\u001b[0m\n\u001b[0;32m     92\u001b[0m     \u001b[1;32mfor\u001b[0m \u001b[0mn\u001b[0m \u001b[1;32min\u001b[0m \u001b[0mkey_list\u001b[0m\u001b[1;33m:\u001b[0m\u001b[1;33m\u001b[0m\u001b[1;33m\u001b[0m\u001b[0m\n\u001b[0;32m     93\u001b[0m         \u001b[1;31m#这里是通过循环把类似<svgmtsi class=\"izu41\"></svgmtsi>的替换相应的汉字\u001b[0m\u001b[1;33m\u001b[0m\u001b[1;33m\u001b[0m\u001b[1;33m\u001b[0m\u001b[0m\n\u001b[1;32m---> 94\u001b[1;33m         \u001b[0mi\u001b[0m \u001b[1;33m=\u001b[0m \u001b[0mi\u001b[0m\u001b[1;33m.\u001b[0m\u001b[0mreplace\u001b[0m\u001b[1;33m(\u001b[0m\u001b[1;34m'<svgmtsi class=\"{}\"></svgmtsi>'\u001b[0m\u001b[1;33m.\u001b[0m\u001b[0mformat\u001b[0m\u001b[1;33m(\u001b[0m\u001b[0mn\u001b[0m\u001b[1;33m)\u001b[0m\u001b[1;33m,\u001b[0m\u001b[0mresDic\u001b[0m\u001b[1;33m[\u001b[0m\u001b[0mn\u001b[0m\u001b[1;33m]\u001b[0m\u001b[1;33m)\u001b[0m\u001b[1;33m\u001b[0m\u001b[1;33m\u001b[0m\u001b[0m\n\u001b[0m\u001b[0;32m     95\u001b[0m \u001b[1;33m\u001b[0m\u001b[0m\n\u001b[0;32m     96\u001b[0m         \u001b[1;31m#这里这里img_list是为了把那些评论的表情包删掉。)\u001b[0m\u001b[1;33m\u001b[0m\u001b[1;33m\u001b[0m\u001b[1;33m\u001b[0m\u001b[0m\n",
      "\u001b[1;31mKeyError\u001b[0m: 'fdutk'"
     ]
    }
   ],
   "source": [
    "'''\n",
    "time: 2021-06-04\n",
    "language: python 3\n",
    "tools: jupyter notebook\n",
    "'''\n",
    "import requests\n",
    "from lxml import etree\n",
    "import re\n",
    "import sys\n",
    "import parsel\n",
    "headers = {\n",
    "    #填自己的Cookie\n",
    "    \"Cookie\":\"fspop=test; _lxsdk_cuid=1789acb1ea1c8-0799a204fdb9ea-5c3f1e49-10ed98-1789acb1ea1c8; _lxsdk=1789acb1ea1c8-0799a204fdb9ea-5c3f1e49-10ed98-1789acb1ea1c8; _hc.v=ebb31d04-778f-02a6-9984-060d56d71344.1617504706; s_ViewType=10; _lx_utm=utm_source%3DBaidu%26utm_medium%3Dorganic; cy=79; cye=haerbin; ctu=3a87482384aa8445669918ae73680ee9a42215c28654ba91ce2d4ec9bf99ab35; Hm_lvt_602b80cf8079ae6591966cc70a3940e7=1617504706,1617504873,1617692904; ll=7fd06e815b796be3df069dec7836c3df; ua=dpuser_9453298353; _lxsdk_s=178a7b72da4-4dd-1e3-fa4%7C%7C175; Hm_lpvt_602b80cf8079ae6591966cc70a3940e7=1617721505\",\n",
    "    \"Host\": \"www.dianping.com\",\n",
    "    \"Referer\": \"http://www.dianping.com/shop/l1MNeHgCskgs6qiN\",\n",
    "    \"User-Agent\": \"Mozilla/5.0 (Macintosh; Intel Mac OS X 10_13_6) AppleWebKit/537.36 (KHTML, like Gecko) Chrome/87.0.4280.88 Safari/537.36\"\n",
    "}\n",
    "\n",
    "headers1 = {\n",
    "    \"User-Agent\": \"Mozilla/5.0 (Macintosh; Intel Mac OS X 10_13_6) AppleWebKit/537.36 (KHTML, like Gecko) Chrome/87.0.4280.88 Safari/537.36\"\n",
    "}\n",
    "\n",
    "url = \"http://www.dianping.com/shop/l1MNeHgCskgs6qiN/review_all\"\n",
    "response = requests.get(url=url,headers=headers)\n",
    "response.encoding='UTF-8' #编码用utf-8\n",
    "#保存爬取到的的html\n",
    "with open(sys.path[0] + \"/\" + '大众点评.html','w',encoding='UTF-8') as f:\n",
    "    f.write(response.text)\n",
    "content = response.content\n",
    "html = etree.HTML(content)\n",
    "css_url = 'http:'+html.xpath('/html/head/link[4]/@href')[0]\n",
    "\n",
    "#css的url\n",
    "# print(css_url)\n",
    "css_response = requests.get(url=css_url,headers=headers1)\n",
    "response.encoding = 'windows-1252'\n",
    "# print(css_response.text)\n",
    "#这里我对 css网页也进行了保存\n",
    "with open(sys.path[0] + \"/\" + r'大众点评.css','w',encoding='UTF-8') as f:\n",
    "    f.write(css_response.text)\n",
    "#这里xpath无法用，我们可以用正则\n",
    "svg_group = re.search(r'svgmtsi\\[class\\^=\"(\\w+)\"].*?background-image: url\\((.*?)\\);', css_response.text)\n",
    "#key_letter是为了获取属性class的值。\n",
    "key_letter = svg_group[1]\n",
    "svg_url = 'http:'+svg_group[2]\n",
    "# print(key_letter)\n",
    "# print(svg_url)\n",
    "svg_response = requests.get(url=svg_url,headers=headers1)\n",
    "with open(sys.path[0] + \"/\" + \"大众点评.svg\",mode='w',encoding='UTF-8') as f:\n",
    "    f.write(svg_response.text)\n",
    "\n",
    "\n",
    "with open(sys.path[0] + \"/\" + \"大众点评.svg\",'r',encoding='UTF-8') as f:\n",
    "    svg_html = f.read()\n",
    "\n",
    "list1=re.findall(r'id=\"(\\d+)\"\\sd=\"M0\\s(\\d+) ',svg_html)\n",
    "href_list=[i[0] for i in list1]\n",
    "y_list=[]\n",
    "for i in list1:\n",
    "    y_list.append(str(int(i[1])-23))\n",
    "\n",
    "dic = dict(zip(href_list, y_list))\n",
    "\n",
    "sel = parsel.Selector(svg_html)\n",
    "texts = re.findall(r'<textPath xlink:href=\"#(.*?)\" textLength=\"(.*?)\">(.*?)</textPath>',svg_html)\n",
    "lines = {}\n",
    "\n",
    "for text in texts:\n",
    "    lines[int(text[0])] = text[2]\n",
    "\n",
    "with open(sys.path[0] + \"/\" + '大众点评.css','r',encoding='utf-8') as f:\n",
    "    css_html = f.read()\n",
    "\n",
    "class_map = re.findall('\\.('+key_letter+'\\w+){background:-(\\d+)\\.0px -(\\d+)\\.0px;\\}', css_html)\n",
    "# print(class_map)\n",
    "class_map = [(cls_name, int(x), int(y)) for cls_name, x,y in class_map]\n",
    "\n",
    "resDic = {}\n",
    "for one_char in class_map:\n",
    "    cls_name, x, y = one_char\n",
    "    for d in dic.keys():\n",
    "        if y == int(dic[d]):\n",
    "            index = (int)(x / 14)\n",
    "            resDic[cls_name] = lines[int(d)][index]\n",
    "            break\n",
    "with open(sys.path[0] + \"/\" + '大众点评.html',mode=\"r\",encoding=\"UTF-8\") as f:\n",
    "    html = f.read()\n",
    "\n",
    "comment_list=re.findall('<div class=\"review-words Hide\">\\s+(.*?)\\s+<div class=\"less-words\">',html)\n",
    "for i in comment_list:\n",
    "    key_list=re.findall('<svgmtsi class=\"(\\w+)\"></svgmtsi>',i)\n",
    "    for n in key_list:\n",
    "        #这里是通过循环把类似<svgmtsi class=\"izu41\"></svgmtsi>的替换相应的汉字\n",
    "        i = i.replace('<svgmtsi class=\"{}\"></svgmtsi>'.format(n),resDic[n])\n",
    "\n",
    "        #这里这里img_list是为了把那些评论的表情包删掉。)\n",
    "        i = re.sub(r'<img (.*?)/>',\"\",i)\n",
    "        i = re.sub(r'&(.*?);',\"\",i)\n",
    "    print(i + \"\\n\")"
   ]
  },
  {
   "cell_type": "code",
   "execution_count": 7,
   "metadata": {},
   "outputs": [
    {
     "data": {
      "text/plain": [
       "'http://s3plus.meituan.net/v1/mss_0a06a471f9514fc79c981b5466f56b91/svgtextcss/e15c1a6956b1d03c4c05c37079dce59f.css'"
      ]
     },
     "execution_count": 7,
     "metadata": {},
     "output_type": "execute_result"
    }
   ],
   "source": []
  },
  {
   "cell_type": "code",
   "execution_count": null,
   "metadata": {},
   "outputs": [],
   "source": []
  }
 ],
 "metadata": {
  "kernelspec": {
   "display_name": "Python 3",
   "language": "python",
   "name": "python3"
  },
  "language_info": {
   "codemirror_mode": {
    "name": "ipython",
    "version": 3
   },
   "file_extension": ".py",
   "mimetype": "text/x-python",
   "name": "python",
   "nbconvert_exporter": "python",
   "pygments_lexer": "ipython3",
   "version": "3.7.4"
  }
 },
 "nbformat": 4,
 "nbformat_minor": 4
}
